{
 "cells": [
  {
   "cell_type": "code",
   "execution_count": 336,
   "metadata": {},
   "outputs": [],
   "source": [
    "from mpl_toolkits import mplot3d\n",
    "import numpy as np\n",
    "import matplotlib.pyplot as plt\n",
    "import random\n",
    "import numpy as np\n",
    "%matplotlib inline"
   ]
  },
  {
   "cell_type": "code",
   "execution_count": 337,
   "metadata": {},
   "outputs": [],
   "source": [
    "class Particle:\n",
    "  def __init__(self, x, y):\n",
    "    self.x = x\n",
    "    self.y = y\n",
    "    self.fitness = 0\n",
    "    self.velocity=np.array([random.uniform(-1,1),random.uniform(-1,1)])\n",
    "    self.personalBest=np.array([x,y])\n",
    "    self.bestFitness = 0"
   ]
  },
  {
   "cell_type": "code",
   "execution_count": 338,
   "metadata": {},
   "outputs": [],
   "source": [
    "def eggHolder(x,y):\n",
    "    return (-(y+47)*np.sin(np.sqrt(np.abs((x/2)+(y+47))))- (x*np.sin(np.sqrt(np.abs(x-y-47)))))"
   ]
  },
  {
   "cell_type": "code",
   "execution_count": 339,
   "metadata": {},
   "outputs": [],
   "source": [
    "def holderTable(x,y):\n",
    "    sxcy = np.sin(x)*np.cos(y)\n",
    "    expArity = (np.sqrt(x**2 + y**2))/np.pi\n",
    "    expArity = np.exp(np.abs(1-expArity))\n",
    "    return -(np.abs(sxcy*expArity))"
   ]
  },
  {
   "cell_type": "code",
   "execution_count": 340,
   "metadata": {},
   "outputs": [],
   "source": [
    "# Constraints Given\n",
    "EggHolderXMin = -512\n",
    "EggHolderXMax = 512\n",
    "EggHolderYMin = -512\n",
    "EggHolderYMax = 512\n",
    "HolderTableXMin = -10\n",
    "HolderTableXMax = 10 \n",
    "HolderTableYMin = -10\n",
    "HolderTableYMax = 10 "
   ]
  },
  {
   "cell_type": "code",
   "execution_count": 341,
   "metadata": {},
   "outputs": [],
   "source": [
    "# Defining Required Arrays\n",
    "particles=[]\n",
    "Averages=[]\n",
    "gBest = []\n",
    "bestFitness=[]\n",
    "globalBests =[]"
   ]
  },
  {
   "cell_type": "code",
   "execution_count": 342,
   "metadata": {},
   "outputs": [],
   "source": [
    "# Variable Params\n",
    "VMax = 2\n",
    "\n",
    "# c1+c2=4\n",
    "c1 = 1\n",
    "c2 = 3\n",
    "\n",
    "NumberOfIterations = 50\n",
    "PopulationSize = 20"
   ]
  },
  {
   "cell_type": "code",
   "execution_count": 359,
   "metadata": {},
   "outputs": [],
   "source": [
    "# Defining Required Funcs\n",
    "def calculateVelocity(particle):\n",
    "    lastTerm = c2*random.random()*(currGlobalBestPosition-np.array([particle.x,particle.y]))\n",
    "    middleTerm = c1*random.random()*(particle.personalBest - np.array([particle.x,particle.y]))\n",
    "    return particle.velocity + middleTerm + lastTerm"
   ]
  },
  {
   "cell_type": "code",
   "execution_count": 360,
   "metadata": {},
   "outputs": [],
   "source": [
    "def PSO(XMax, XMin,YMax, YMin, Func):\n",
    "    particles=[]\n",
    "    population=PopulationSize\n",
    "    for particleNumber in range(population):\n",
    "        p=Particle(random.uniform(XMin,XMax),random.uniform(YMin,YMax))\n",
    "        p.fitness = Func(p.x,p.y)\n",
    "        p.bestFitness = p.fitness\n",
    "        particles.append(p)\n",
    "    fitneessValues=[]\n",
    "    for particle in particles:\n",
    "        fitneessValues.append(particle.fitness)\n",
    "    fbest, pbest = min(fitneessValues),np.array([particles[fitneessValues.index(min(fitneessValues))].x,particles[fitneessValues.index(min(fitneessValues))].y])\n",
    "    currentGlobalBest = fbest\n",
    "    currGlobalBestPosition = np.array([pbest[0],pbest[-1]])\n",
    "#     print(\"Current Global Best: \",currentGlobalBest)\n",
    "#     print(\"Current Global Best Position: \",currGlobalBestPosition)\n",
    "    Averages=[]\n",
    "    for i in range(NumberOfIterations):\n",
    "        for particle in particles:\n",
    "            fitVals = []\n",
    "            currVelocity = calculateVelocity(particle)\n",
    "            calX = particle.x + currVelocity[0]\n",
    "            calY = particle.y + currVelocity[-1]\n",
    "            if ((calX < XMax and calX > XMin) and (calY < YMax and calY > YMin)):\n",
    "                particle.x = calX\n",
    "                particle.y = calY\n",
    "                particle.velocity = currVelocity\n",
    "            else:\n",
    "                velocity=[0,0]\n",
    "                if(calX < XMin):\n",
    "                    particle.x = XMin\n",
    "                elif (calX> XMax):\n",
    "                    particle.x = XMax\n",
    "                else:\n",
    "                    particle.x = calX\n",
    "                    velocity[0]=currVelocity[0]\n",
    "                if(calY < YMin):\n",
    "                    particle.y = YMin\n",
    "                elif (calY > YMax):\n",
    "                    particle.y = YMax\n",
    "                else:\n",
    "                    particle.y = calY\n",
    "                    velocity[-1] = currVelocity[-1]\n",
    "                particle.velocity=np.array(velocity)\n",
    "            particle.fitness = Func(particle.x,particle.y)\n",
    "            fitVals.append(particle.fitness)\n",
    "            if particle.fitness < particle.bestFitness:\n",
    "                particle.bestFitness = particle.fitness\n",
    "                particle.personalBest = np.array([particle.x,particle.y])\n",
    "            if currentGlobalBest > particle.fitness:\n",
    "                currentGlobalBest = particle.fitness\n",
    "                currGlobalBestPosition = np.array([particle.x,particle.y])\n",
    "        Averages.append(sum(fitVals)/len(fitVals))\n",
    "#         print(\"Current Global Best\",currentGlobalBest)\n",
    "#         print(currGlobalBestPosition)\n",
    "    return currentGlobalBest,currGlobalBestPosition"
   ]
  },
  {
   "cell_type": "code",
   "execution_count": 361,
   "metadata": {
    "scrolled": true
   },
   "outputs": [
    {
     "data": {
      "text/plain": [
       "(-959.4275820139219, array([512.        , 404.66413008]))"
      ]
     },
     "execution_count": 361,
     "metadata": {},
     "output_type": "execute_result"
    }
   ],
   "source": [
    "PSO(EggHolderXMax,EggHolderXMin,EggHolderYMax,EggHolderYMin, eggHolder)"
   ]
  },
  {
   "cell_type": "code",
   "execution_count": 362,
   "metadata": {
    "scrolled": true
   },
   "outputs": [
    {
     "data": {
      "text/plain": [
       "(-17.30695363229516, array([-8.46299836,  9.80133265]))"
      ]
     },
     "execution_count": 362,
     "metadata": {},
     "output_type": "execute_result"
    }
   ],
   "source": [
    "PSO(HolderTableXMax,HolderTableXMin, HolderTableYMax, HolderTableYMin, holderTable)"
   ]
  },
  {
   "cell_type": "code",
   "execution_count": null,
   "metadata": {},
   "outputs": [],
   "source": []
  }
 ],
 "metadata": {
  "kernelspec": {
   "display_name": "Python 3",
   "language": "python",
   "name": "python3"
  },
  "language_info": {
   "codemirror_mode": {
    "name": "ipython",
    "version": 3
   },
   "file_extension": ".py",
   "mimetype": "text/x-python",
   "name": "python",
   "nbconvert_exporter": "python",
   "pygments_lexer": "ipython3",
   "version": "3.6.4"
  }
 },
 "nbformat": 4,
 "nbformat_minor": 2
}
