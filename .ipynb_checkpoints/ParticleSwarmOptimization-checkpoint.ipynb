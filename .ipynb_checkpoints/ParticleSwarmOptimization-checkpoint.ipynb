{
 "cells": [
  {
   "cell_type": "code",
   "execution_count": 1,
   "metadata": {},
   "outputs": [],
   "source": [
    "from mpl_toolkits import mplot3d\n",
    "import numpy as np\n",
    "import matplotlib.pyplot as plt\n",
    "import random\n",
    "import numpy as np\n",
    "%matplotlib inline"
   ]
  },
  {
   "cell_type": "code",
   "execution_count": 2,
   "metadata": {},
   "outputs": [],
   "source": [
    "class Particle:\n",
    "  def __init__(self, x, y):\n",
    "    self.x = x\n",
    "    self.y = y\n",
    "    self.fitness = eggHolder(x,y)\n",
    "    self.velocity=np.array([0,0])\n",
    "    self.pibest=np.array([x,y])"
   ]
  },
  {
   "cell_type": "code",
   "execution_count": 3,
   "metadata": {},
   "outputs": [],
   "source": [
    "def eggHolder(x,y):\n",
    "    return (-(y+47)*np.sin(np.sqrt(np.abs((x/2)+(y+47))))- (x*np.sin(np.sqrt(np.abs(x-y-47)))))"
   ]
  },
  {
   "cell_type": "code",
   "execution_count": 4,
   "metadata": {},
   "outputs": [],
   "source": [
    "def holderTable(x,y):\n",
    "    sxcy = np.sin(x)*np.cos(y)\n",
    "    expArity = np.sqrt((np.sqrt(x**2 + y**2)))/np.pi\n",
    "    expArity = 1- expArity\n",
    "    expStuf = np.exp(expArity)\n",
    "    return -(np.abs(sxcy*expStuf))"
   ]
  },
  {
   "cell_type": "code",
   "execution_count": 5,
   "metadata": {},
   "outputs": [],
   "source": [
    "# Constraints Given\n",
    "EggHolderXMin = -512\n",
    "EggHolderXMax = 512\n",
    "EggHolderYMin = -512\n",
    "EggHolderYMax = 512\n",
    "HolderTableXMin = -10\n",
    "HolderTableXMax = 10 \n",
    "HolderTableYMin = -10\n",
    "HolderTableYMax = 10 "
   ]
  },
  {
   "cell_type": "code",
   "execution_count": 10,
   "metadata": {},
   "outputs": [],
   "source": [
    "# Defining Required Arrays\n",
    "Population=[]\n",
    "Averages=[]\n",
    "gBest = []"
   ]
  },
  {
   "cell_type": "code",
   "execution_count": 7,
   "metadata": {},
   "outputs": [],
   "source": [
    "# Variable Params\n",
    "VMax = 80\n",
    "\n",
    "# c1+c2=4\n",
    "c1 = 1\n",
    "c2 = 3\n",
    "\n",
    "NumberOfIterations = 50\n",
    "PopulationSize = 20"
   ]
  },
  {
   "cell_type": "code",
   "execution_count": 9,
   "metadata": {},
   "outputs": [],
   "source": [
    "# Defining Required Funcs\n",
    "def getVelocity(particle, VMax):\n",
    "    middleTerm = c1*random.random()*(pbest-particle.pibest)\n",
    "    endTerm = c2*random.random()*(gbest-particle.pibest)\n",
    "    calculatedVelocity=particle.velocity+middleTerm+endTerm\n",
    "    if abs(calculatedVelocity[0]) > VMax and abs(calculatedVelocity[1]) > VMax:\n",
    "        particle.velocity=np.array([1,1])\n",
    "        return particle.velocity\n",
    "    else:\n",
    "        particle.velocity=particle.velocity+middleTerm+endTerm\n",
    "    return particle.velocity\n",
    "\n",
    "\n",
    "def getNewPosition(particle,Xmax, Xmin, Ymax, Ymin):\n",
    "    x,y = getVelocity(particle, VMax)\n",
    "    if((-Xmin <= (x+particle.x) <= Xmax) and (-Ymin <= (y+particle.y) <= Ymax)):\n",
    "        particle.x+=x\n",
    "        particle.y+=y\n",
    "    return x,y\n"
   ]
  },
  {
   "cell_type": "code",
   "execution_count": 13,
   "metadata": {},
   "outputs": [
    {
     "ename": "TypeError",
     "evalue": "'list' object cannot be interpreted as an integer",
     "output_type": "error",
     "traceback": [
      "\u001b[0;31m---------------------------------------------------------------------------\u001b[0m",
      "\u001b[0;31mTypeError\u001b[0m                                 Traceback (most recent call last)",
      "\u001b[0;32m<ipython-input-13-a58f9c69d681>\u001b[0m in \u001b[0;36m<module>\u001b[0;34m()\u001b[0m\n\u001b[0;32m----> 1\u001b[0;31m \u001b[0;32mfor\u001b[0m \u001b[0mparticleNumber\u001b[0m \u001b[0;32min\u001b[0m \u001b[0mrange\u001b[0m\u001b[0;34m(\u001b[0m\u001b[0mPopulation\u001b[0m\u001b[0;34m)\u001b[0m\u001b[0;34m:\u001b[0m\u001b[0;34m\u001b[0m\u001b[0m\n\u001b[0m\u001b[1;32m      2\u001b[0m     \u001b[0mparticles\u001b[0m\u001b[0;34m.\u001b[0m\u001b[0mappend\u001b[0m\u001b[0;34m(\u001b[0m\u001b[0mParticle\u001b[0m\u001b[0;34m(\u001b[0m\u001b[0mrandom\u001b[0m\u001b[0;34m.\u001b[0m\u001b[0muniform\u001b[0m\u001b[0;34m(\u001b[0m\u001b[0mEggHolderXMin\u001b[0m\u001b[0;34m,\u001b[0m\u001b[0mEggHolderXMax\u001b[0m\u001b[0;34m)\u001b[0m\u001b[0;34m,\u001b[0m\u001b[0mrandom\u001b[0m\u001b[0;34m.\u001b[0m\u001b[0muniform\u001b[0m\u001b[0;34m(\u001b[0m\u001b[0mEggHolderYMin\u001b[0m\u001b[0;34m,\u001b[0m\u001b[0mEggHolderYMax\u001b[0m\u001b[0;34m)\u001b[0m\u001b[0;34m)\u001b[0m\u001b[0;34m)\u001b[0m\u001b[0;34m\u001b[0m\u001b[0m\n\u001b[1;32m      3\u001b[0m \u001b[0mfitneessValues\u001b[0m\u001b[0;34m=\u001b[0m\u001b[0;34m[\u001b[0m\u001b[0;34m]\u001b[0m\u001b[0;34m\u001b[0m\u001b[0m\n\u001b[1;32m      4\u001b[0m \u001b[0;32mfor\u001b[0m \u001b[0mparticle\u001b[0m \u001b[0;32min\u001b[0m \u001b[0mparticles\u001b[0m\u001b[0;34m:\u001b[0m\u001b[0;34m\u001b[0m\u001b[0m\n\u001b[1;32m      5\u001b[0m     \u001b[0mfitneessValues\u001b[0m\u001b[0;34m.\u001b[0m\u001b[0mappend\u001b[0m\u001b[0;34m(\u001b[0m\u001b[0mparticle\u001b[0m\u001b[0;34m.\u001b[0m\u001b[0mfitness\u001b[0m\u001b[0;34m)\u001b[0m\u001b[0;34m\u001b[0m\u001b[0m\n",
      "\u001b[0;31mTypeError\u001b[0m: 'list' object cannot be interpreted as an integer"
     ]
    }
   ],
   "source": [
    "for particleNumber in range(PopulationSize):\n",
    "    particles.append(Particle(random.uniform(EggHolderXMin,EggHolderXMax),random.uniform(EggHolderYMin,EggHolderYMax)))\n",
    "fitneessValues=[]\n",
    "for particle in particles:\n",
    "    fitneessValues.append(particle.fitness)\n",
    "fbest, pbest = min(fitneessValues),np.array([particles[fitneessValues.index(min(fitneessValues))].x,particles[fitneessValues.index(min(fitneessValues))].y])\n",
    "gbest=pbest\n",
    "for i in range(NumberOfIterations):\n",
    "    for particle in particles:\n",
    "        getNewPosition(particle, EggHolderXMin, EggHolderXMax, EggHolderYMax, EggHolderYMin)\n",
    "    for particle in particles:\n",
    "        particle.fitness= eggHolder(particle.x,particle.y) \n",
    "    fbest1=fbest\n",
    "    pbest1=pbest\n",
    "    fitneessValues=[]\n",
    "    for particle in particles:\n",
    "        fitneessValues.append(particle.fitness)\n",
    "    Averages.append((sum(fitneessValues)/len(fitneessValues)))\n",
    "    fbest, pbest = min(fitneessValues),np.array([particles[fitneessValues.index(min(fitneessValues))].x,particles[fitneessValues.index(min(fitneessValues))].y])\n",
    "    if fbest<fbest1:\n",
    "        gBest.append(gbest)\n",
    "        gbest=pbest   "
   ]
  },
  {
   "cell_type": "code",
   "execution_count": null,
   "metadata": {},
   "outputs": [],
   "source": []
  },
  {
   "cell_type": "code",
   "execution_count": null,
   "metadata": {},
   "outputs": [],
   "source": []
  }
 ],
 "metadata": {
  "kernelspec": {
   "display_name": "Python 3",
   "language": "python",
   "name": "python3"
  },
  "language_info": {
   "codemirror_mode": {
    "name": "ipython",
    "version": 3
   },
   "file_extension": ".py",
   "mimetype": "text/x-python",
   "name": "python",
   "nbconvert_exporter": "python",
   "pygments_lexer": "ipython3",
   "version": "3.6.4"
  }
 },
 "nbformat": 4,
 "nbformat_minor": 2
}
